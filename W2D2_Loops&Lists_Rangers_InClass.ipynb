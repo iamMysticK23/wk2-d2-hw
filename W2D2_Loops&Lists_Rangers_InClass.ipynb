{
 "cells": [
  {
   "cell_type": "markdown",
   "metadata": {},
   "source": [
    "# Functions, Scoping, Data Collections 1 & List Comprehensions"
   ]
  },
  {
   "cell_type": "markdown",
   "metadata": {},
   "source": [
    "## Tasks Today:\n",
    "\n",
    "<i>Monday Additions (for loops)</i>\n",
    "\n",
    "1) For Loops <br>\n",
    " &nbsp;&nbsp;&nbsp;&nbsp; a) Using 'in' keyword <br>\n",
    " &nbsp;&nbsp;&nbsp;&nbsp; b) Continue Statement <br>\n",
    " &nbsp;&nbsp;&nbsp;&nbsp; c) Break Statement <br>\n",
    " &nbsp;&nbsp;&nbsp;&nbsp; d) Pass Statement <br>\n",
    " &nbsp;&nbsp;&nbsp;&nbsp; e) Double For Loops <br>\n",
    "2) While Loops <br>\n",
    " &nbsp;&nbsp;&nbsp;&nbsp; a) Looping 'While True' <br>\n",
    " &nbsp;&nbsp;&nbsp;&nbsp; b) While and For Loops Used Together <br>\n",
    " \n",
    "3) Lists <br>\n",
    " &nbsp;&nbsp;&nbsp;&nbsp; a) Declaring Lists <br>\n",
    " &nbsp;&nbsp;&nbsp;&nbsp; b) Indexing a List <br>\n",
    " &nbsp;&nbsp;&nbsp;&nbsp; c) .append() <br>\n",
    " &nbsp;&nbsp;&nbsp;&nbsp; d) .insert() <br>\n",
    " &nbsp;&nbsp;&nbsp;&nbsp; e) .pop() <br>\n",
    " &nbsp;&nbsp;&nbsp;&nbsp; f) .remove() <br>\n",
    " &nbsp;&nbsp;&nbsp;&nbsp; g) del() <br>\n",
    " &nbsp;&nbsp;&nbsp;&nbsp; h) Concatenating Two Lists <br>\n",
    " &nbsp;&nbsp;&nbsp;&nbsp; i) Lists Within Lists <br>\n",
    " &nbsp;&nbsp;&nbsp;&nbsp; j) Looping Through Lists <br>\n",
    "4) Working With Lists <br>\n",
    " &nbsp;&nbsp;&nbsp;&nbsp; a) min() <br>\n",
    " &nbsp;&nbsp;&nbsp;&nbsp; b) max() <br>\n",
    " &nbsp;&nbsp;&nbsp;&nbsp; c) sum() <br>\n",
    " &nbsp;&nbsp;&nbsp;&nbsp; d) sort() <br>\n",
    " &nbsp;&nbsp;&nbsp;&nbsp; e) Copying a List <br>\n",
    " &nbsp;&nbsp;&nbsp;&nbsp; f) 'in' keyword <br>\n",
    " &nbsp;&nbsp;&nbsp;&nbsp; g) 'not in' keyword <br>\n",
    " &nbsp;&nbsp;&nbsp;&nbsp; i) Checking an Empty List <br>\n",
    " &nbsp;&nbsp;&nbsp;&nbsp; j) Removing Instances with a Loop <br> \n",
    "5) List Comprehensions <br>\n",
    "6) Tuples <br>\n",
    " &nbsp;&nbsp;&nbsp;&nbsp; a) sorted() <br>\n"
   ]
  },
  {
   "cell_type": "markdown",
   "metadata": {},
   "source": [
    "### For Loops"
   ]
  },
  {
   "cell_type": "code",
   "execution_count": 8,
   "metadata": {},
   "outputs": [
    {
     "name": "stdout",
     "output_type": "stream",
     "text": [
      "K\n",
      "e\n",
      "n\n",
      "a\n",
      "i\n",
      "\n",
      "\n",
      "5\n",
      "[0, 1, 2, 3, 4]\n",
      "\n",
      " 0 K\n",
      "\n",
      " 1 e\n",
      "\n",
      " 2 n\n",
      "\n",
      " 3 a\n",
      "\n",
      " 4 i\n",
      "\n",
      "\n",
      "0 K\n",
      "1 e\n",
      "2 n\n",
      "3 a\n",
      "4 i\n"
     ]
    }
   ],
   "source": [
    "# for keyword, counter/iterator, in keyword, object we are iterating through\n",
    "\n",
    "name = \"Kenai\"\n",
    "# way 1 is solely going through by value\n",
    "\n",
    "for char in name:\n",
    "    print(char)\n",
    "    \n",
    "# way 2 is looping by index utilizing range & len\n",
    "print('\\n')\n",
    "name_len = len(name)\n",
    "print(name_len)\n",
    "\n",
    "print(list(range(name_len)))\n",
    "\n",
    "#how to write a for statement with this info:\n",
    "\n",
    "for i in range(len(name)):\n",
    "    print('\\n', i, name[i])\n",
    "    \n",
    "# way 3 is looping by index AND value by using enumerate()\n",
    "\n",
    "print('\\n')\n",
    "\n",
    "for i, char in enumerate(name): # in enumerate is a term\n",
    "    print(i, char)\n",
    "    \n"
   ]
  },
  {
   "cell_type": "markdown",
   "metadata": {},
   "source": [
    "##### Using 'in' keyword"
   ]
  },
  {
   "cell_type": "code",
   "execution_count": 12,
   "metadata": {},
   "outputs": [
    {
     "name": "stdout",
     "output_type": "stream",
     "text": [
      "'e' is here.\n",
      "\n",
      "\n",
      "K\n",
      "e\n",
      "n\n",
      "a\n",
      "i\n",
      "'e' is totally here!\n"
     ]
    }
   ],
   "source": [
    "#in is what accesses the items in an iterable\n",
    "\n",
    "name = \"Kenai\"\n",
    "\n",
    "if 'e' in name:\n",
    "    print(\"'e' is here.\")\n",
    "    \n",
    "print('\\n') # creating a new line\n",
    "\n",
    "for char in name:\n",
    "    print(char)\n",
    "\n",
    "# another way to access items\n",
    "for char in name:\n",
    "    if char == 'e':\n",
    "        print(\"'e' is totally here!\")\n",
    "        \n",
    "\n",
    "\n",
    "    \n"
   ]
  },
  {
   "cell_type": "markdown",
   "metadata": {},
   "source": [
    "##### Continue Statement\n"
   ]
  },
  {
   "cell_type": "code",
   "execution_count": 13,
   "metadata": {},
   "outputs": [
    {
     "name": "stdout",
     "output_type": "stream",
     "text": [
      "0\n",
      "1\n",
      "2\n",
      "3\n",
      "4\n",
      "6\n",
      "7\n",
      "8\n",
      "9\n",
      "10\n",
      "11\n",
      "12\n",
      "13\n",
      "14\n",
      "15\n",
      "16\n",
      "17\n",
      "18\n",
      "19\n"
     ]
    }
   ],
   "source": [
    "#continue will skip an item based on a conditional\n",
    "\n",
    "for i in range(20):\n",
    "    if i == 5:\n",
    "        continue\n",
    "    else: # else statement is optional\n",
    "        print(i)\n",
    " # output does not print the number '5'       \n",
    "\n"
   ]
  },
  {
   "cell_type": "markdown",
   "metadata": {},
   "source": [
    "##### Break Statement"
   ]
  },
  {
   "cell_type": "code",
   "execution_count": 16,
   "metadata": {},
   "outputs": [
    {
     "name": "stdout",
     "output_type": "stream",
     "text": [
      "0\n",
      "1\n",
      "2\n",
      "3\n",
      "4\n",
      "5\n"
     ]
    }
   ],
   "source": [
    "# BREAK WILL STOP our loop all together\n",
    "\n",
    "for i in range(20):\n",
    "    print(i)\n",
    "    if i == 5:\n",
    "        break\n",
    "# order is important"
   ]
  },
  {
   "cell_type": "markdown",
   "metadata": {},
   "source": [
    "##### Pass Statement"
   ]
  },
  {
   "cell_type": "code",
   "execution_count": 18,
   "metadata": {},
   "outputs": [
    {
     "name": "stdout",
     "output_type": "stream",
     "text": [
      "hello\n",
      "hello again\n"
     ]
    }
   ],
   "source": [
    "# mostly used as a placeholder, and will continue on same iteration\n",
    "\n",
    "for i in range(20):\n",
    "    pass\n",
    "\n",
    "print('hello')\n",
    "#will error out if I dont use pass above\n",
    "#pass sets up functions\n",
    "\n",
    "def my_function():\n",
    "    pass\n",
    "\n",
    "print('hello again')\n",
    "\n",
    "    "
   ]
  },
  {
   "cell_type": "markdown",
   "metadata": {},
   "source": [
    "##### Double For Loops"
   ]
  },
  {
   "cell_type": "code",
   "execution_count": 20,
   "metadata": {},
   "outputs": [
    {
     "name": "stdout",
     "output_type": "stream",
     "text": [
      "K K\n",
      "K e\n",
      "K n\n",
      "K a\n",
      "K i\n",
      "e K\n",
      "e e\n",
      "e n\n",
      "e a\n",
      "e i\n",
      "n K\n",
      "n e\n",
      "n n\n",
      "n a\n",
      "n i\n",
      "a K\n",
      "a e\n",
      "a n\n",
      "a a\n",
      "a i\n",
      "i K\n",
      "i e\n",
      "i n\n",
      "i a\n",
      "i i\n"
     ]
    }
   ],
   "source": [
    "# for i in range(5): #i is for loop 1\n",
    "#     for j in range(5): # j is for loop 2\n",
    "#         print(f\"i = {i}, j= {j}\")\n",
    "\n",
    "#this is reading kind of like a S shape\n",
    "\n",
    "for char in name:\n",
    "    for char2 in name:\n",
    "        print(char, char2)"
   ]
  },
  {
   "cell_type": "markdown",
   "metadata": {},
   "source": [
    "### While Loops"
   ]
  },
  {
   "cell_type": "code",
   "execution_count": 22,
   "metadata": {},
   "outputs": [
    {
     "name": "stdout",
     "output_type": "stream",
     "text": [
      "0\n",
      "1\n",
      "2\n",
      "3\n",
      "4\n"
     ]
    }
   ],
   "source": [
    "#while keyword, condition statement\n",
    "#while loop will run based on the condition statement\n",
    "\n",
    "counter = 0\n",
    "\n",
    "while counter < 5: # this will keep running while our condition is True\n",
    "    print(counter)\n",
    "    counter += 1\n"
   ]
  },
  {
   "cell_type": "markdown",
   "metadata": {},
   "source": [
    "##### looping 'While True'"
   ]
  },
  {
   "cell_type": "code",
   "execution_count": 25,
   "metadata": {},
   "outputs": [
    {
     "name": "stdout",
     "output_type": "stream",
     "text": [
      "Infinite loop\n"
     ]
    }
   ],
   "source": [
    "# true as a condition for while loop to run\n",
    "\n",
    "game_over = False # a flag\n",
    "\n",
    "while True: # standard way of writing while loops, essentially will keep running until we hit a break statement\n",
    "    print('Infinite loop')\n",
    "    if game_over == False:\n",
    "        break\n"
   ]
  },
  {
   "cell_type": "code",
   "execution_count": 28,
   "metadata": {},
   "outputs": [
    {
     "name": "stdout",
     "output_type": "stream",
     "text": [
      "1\n",
      "2\n",
      "3\n",
      "4\n",
      "5\n"
     ]
    }
   ],
   "source": [
    "game_over = False\n",
    "my_list = [1,2,3,4,5]\n",
    "index = 0\n",
    "\n",
    "while True:\n",
    "    print(my_list[index])\n",
    "    if my_list[index] == 5:\n",
    "        break\n",
    "    index += 1"
   ]
  },
  {
   "cell_type": "markdown",
   "metadata": {},
   "source": [
    "##### While & For Loops Used Together"
   ]
  },
  {
   "cell_type": "code",
   "execution_count": 29,
   "metadata": {},
   "outputs": [
    {
     "name": "stdout",
     "output_type": "stream",
     "text": [
      "\n",
      "While Loop Iteration: 0\n",
      "For Loop Iteration 0\n",
      "For Loop Iteration 1\n",
      "For Loop Iteration 2\n",
      "\n",
      "While Loop Iteration: 1\n",
      "For Loop Iteration 0\n",
      "For Loop Iteration 1\n",
      "For Loop Iteration 2\n",
      "\n",
      "While Loop Iteration: 2\n",
      "For Loop Iteration 0\n",
      "For Loop Iteration 1\n",
      "For Loop Iteration 2\n",
      "\n",
      "While Loop Iteration: 3\n",
      "For Loop Iteration 0\n",
      "For Loop Iteration 1\n",
      "For Loop Iteration 2\n",
      "\n",
      "While Loop Iteration: 4\n",
      "For Loop Iteration 0\n",
      "For Loop Iteration 1\n",
      "For Loop Iteration 2\n",
      "\n",
      "While Loop Iteration: 5\n",
      "For Loop Iteration 0\n",
      "For Loop Iteration 1\n",
      "For Loop Iteration 2\n",
      "\n",
      "While Loop Iteration: 6\n",
      "For Loop Iteration 0\n",
      "For Loop Iteration 1\n",
      "For Loop Iteration 2\n",
      "\n",
      "While Loop Iteration: 7\n",
      "For Loop Iteration 0\n",
      "For Loop Iteration 1\n",
      "For Loop Iteration 2\n",
      "\n",
      "While Loop Iteration: 8\n",
      "For Loop Iteration 0\n",
      "For Loop Iteration 1\n",
      "For Loop Iteration 2\n",
      "\n",
      "While Loop Iteration: 9\n",
      "For Loop Iteration 0\n",
      "For Loop Iteration 1\n",
      "For Loop Iteration 2\n"
     ]
    }
   ],
   "source": [
    "\n",
    "i = 0\n",
    "\n",
    "while i < 10:\n",
    "    print(f'\\nWhile Loop Iteration: {i}')\n",
    "\n",
    "    for j in range(3):\n",
    "        print(f'For Loop Iteration {j}')\n",
    "\n",
    "    i +=1\n",
    "\n"
   ]
  },
  {
   "cell_type": "code",
   "execution_count": 31,
   "metadata": {},
   "outputs": [
    {
     "name": "stdout",
     "output_type": "stream",
     "text": [
      "[1, 2, 3]\n"
     ]
    }
   ],
   "source": [
    "\n",
    "my_list = []\n",
    "value = 1\n",
    "\n",
    "while len(my_list) < 3: # explicitly stating the condition we want while loop to keep going until\n",
    "\n",
    "    my_list.append(value)\n",
    "    value += 1\n",
    "\n",
    "print(my_list)"
   ]
  },
  {
   "cell_type": "markdown",
   "metadata": {},
   "source": [
    "##### The Range Function"
   ]
  },
  {
   "cell_type": "code",
   "execution_count": 34,
   "metadata": {},
   "outputs": [
    {
     "name": "stdout",
     "output_type": "stream",
     "text": [
      "0\n",
      "1\n",
      "2\n",
      "3\n",
      "4\n",
      "\n",
      "\n",
      "1\n",
      "2\n",
      "3\n",
      "4\n",
      "\n",
      "\n",
      "1\n",
      "3\n"
     ]
    }
   ],
   "source": [
    "# range(start, stop, step) - stop is required and start defaults to 0 if none is given\n",
    "\n",
    "# just giving it 1 argument\n",
    "\n",
    "for i in range(5): # assuming argument is the stop, start at 0 step by 1\n",
    "    print(i)\n",
    "print ('\\n')\n",
    "\n",
    "# giving 2 arguments\n",
    "for i in range(1,5): # assuming first argument is the start, 2nd is the stop, step by 1\n",
    "    print(i)\n",
    "\n",
    "# giving it 3 arguments\n",
    "print('\\n')\n",
    "for i in range (1,5,2): # first argument is start, 2nd is stop, 3rd is step\n",
    "    print(i)\n",
    "    \n"
   ]
  },
  {
   "cell_type": "markdown",
   "metadata": {},
   "source": [
    "### String Manipulation Exercise"
   ]
  },
  {
   "cell_type": "code",
   "execution_count": 43,
   "metadata": {},
   "outputs": [
    {
     "name": "stdout",
     "output_type": "stream",
     "text": [
      "Connor\n",
      "Max\n",
      "Evan\n",
      "Jordan\n",
      "\n",
      "\n",
      "CoNNor\n",
      "Max\n",
      "EVan\n",
      "JORDAN\n",
      "\n",
      "\n",
      "CoNNor\n",
      "Max\n",
      "EVan\n",
      "JORDAN\n"
     ]
    }
   ],
   "source": [
    "names = ['    coNNor', 'max', ' EVan ', 'JORDAN']\n",
    "# HINT: You will need to use a for loop for iteration\n",
    "# Loop through the names list, remove white space and capitalize the first letter of each name. Print each new name.\n",
    "# need to use a string variable\n",
    "for name in names:\n",
    "   print(name.title().strip()) # this removes white space and capitilizes first letter of each name\n",
    "    \n",
    "print('\\n')\n",
    "for name in names:\n",
    "    name = name.strip()\n",
    "    name = name[0:1].upper() + name[1:]\n",
    "    print(name)\n",
    "    \n",
    "print('\\n')\n",
    "# another example:\n",
    "for name in names:\n",
    "    name = name.strip()\n",
    "    new_name = \"\"\n",
    "    for i in range(len(name)):\n",
    "        if i == 0:\n",
    "            new_name += name[i].upper()\n",
    "        else:\n",
    "            new_name += name[i]\n",
    "\n",
    "    print(new_name)\n",
    "    \n"
   ]
  },
  {
   "cell_type": "markdown",
   "metadata": {},
   "source": [
    "## Lists"
   ]
  },
  {
   "cell_type": "markdown",
   "metadata": {},
   "source": [
    "##### Declaring Lists"
   ]
  },
  {
   "cell_type": "code",
   "execution_count": 45,
   "metadata": {},
   "outputs": [
    {
     "name": "stdout",
     "output_type": "stream",
     "text": [
      "['Alex', 'Leza', 'Luis', 'Matthew']\n",
      "[0, 1, 2, 3, 4]\n",
      "['Alex', 0, 'Leza', [0, 1, 2, 3], [0, 1, 2, 3, 4]]\n",
      "[]\n"
     ]
    }
   ],
   "source": [
    "# declare an empty list we will use square brackets []\n",
    "\n",
    "our_list = [] # <= empty list declared\n",
    "\n",
    "# lists are mutable(we can mutate it) objects vs strings are imutable(we can't mutate it) objects\n",
    "\n",
    "names = ['Alex', 'Leza', 'Luis', 'Matthew']\n",
    "numbers = [0,1,2,3,4]\n",
    "things = ['Alex', 0, 'Leza', [0,1,2,3], numbers]\n",
    "\n",
    "print(names)\n",
    "print(numbers)\n",
    "print(things)\n",
    "\n",
    "print(our_list)\n"
   ]
  },
  {
   "cell_type": "markdown",
   "metadata": {},
   "source": [
    "##### Indexing a List"
   ]
  },
  {
   "cell_type": "code",
   "execution_count": 64,
   "metadata": {},
   "outputs": [
    {
     "name": "stdout",
     "output_type": "stream",
     "text": [
      "Leza\n",
      "['Leza', 'Luis', 'Matthew']\n",
      "['Alex']\n",
      "['Leza', 'Luis', 'Matthew']\n",
      "\n",
      "\n",
      "['Leza', 'Luis']\n",
      "['Leza', 'Matthew']\n",
      "['Matthew', 'Luis', 'Leza', 'Alex']\n",
      "azeL\n",
      "Leza\n"
     ]
    }
   ],
   "source": [
    "# [start: stop: step] --> last item [-1]\n",
    "# declaring and indexing into lists is always going to be square brackets []\n",
    "\n",
    "#indexing is just with 1 value\n",
    "#slicking utilizes the colon and a start,stop, step\n",
    "\n",
    "names = ['Alex', 'Leza', 'Luis', 'Matthew']\n",
    "\n",
    "# index by 1 argument\n",
    "# first item in list starts at index 0\n",
    "print(names[1]) #prints out Leza\n",
    "\n",
    "# start with 1 argument and a colon :\n",
    "\n",
    "print(names[1:]) # prints out from Leza and ends at Matthew\n",
    "\n",
    "print(names[:1]) #prints out the value before the ending number\n",
    "\n",
    "cool_kids = names[1:]\n",
    "print(cool_kids)\n",
    "\n",
    "print('\\n')\n",
    "# 2 values and the colon :\n",
    "print(names[1:3]) #starts at Leza stops at Luis\n",
    "print(names[1::2]) #starts with Leza, skips middle, ends with step\n",
    "\n",
    "# we can always go backwards\n",
    "print(names[::-1]) #prints list in reverse order\n",
    "\n",
    "print(names[1][::-1]) #Gets Leza, takes iterable and assumes we have start/stop/step. \n",
    "                    # Starts at beginning, stops at end and goes in reverse by 1\n",
    "#play around with this\n",
    "print(names[1][0:])\n",
    "\n",
    "      \n",
    "\n",
    "\n"
   ]
  },
  {
   "cell_type": "code",
   "execution_count": 72,
   "metadata": {},
   "outputs": [
    {
     "name": "stdout",
     "output_type": "stream",
     "text": [
      "3\n"
     ]
    }
   ],
   "source": [
    "names = ['Alex', 'Leza', 'Luis', 'Matthew']\n",
    "numbers = [0,1,2,3,4]\n",
    "things = ['Alex', 0, 'Leza', [0,1,2,3], numbers]\n",
    "\n",
    "# print the number '3' using our things list\n",
    "\n",
    "print(things[3][-1]) # this goes into things variable, gets the list and then picks out the last number which is 3"
   ]
  },
  {
   "cell_type": "markdown",
   "metadata": {},
   "source": [
    "### List Methods"
   ]
  },
  {
   "cell_type": "markdown",
   "metadata": {},
   "source": [
    "##### .append()"
   ]
  },
  {
   "cell_type": "code",
   "execution_count": 74,
   "metadata": {},
   "outputs": [
    {
     "name": "stdout",
     "output_type": "stream",
     "text": [
      "['Ryan', 'Tenzin', 'Austin', 'Dylan', 'Mohammad']\n",
      "['Ryan', 'Tenzin', 'Austin', 'Dylan', 'Mohammad', 'Kenai']\n",
      "['Ryan', 'Tenzin', 'Austin', 'Dylan', 'Mohammad', 'Kenai', 2]\n"
     ]
    }
   ],
   "source": [
    "names = [\"Ryan\", \"Tenzin\", \"Austin\", \"Dylan\", \"Mohammad\"]\n",
    "print(names)\n",
    "# adds something at the end of the list\n",
    "names.append('Kenai')\n",
    "print(names)\n",
    "\n",
    "names.append(2)\n",
    "print(names)\n",
    "\n"
   ]
  },
  {
   "cell_type": "markdown",
   "metadata": {},
   "source": [
    "##### .insert()"
   ]
  },
  {
   "cell_type": "code",
   "execution_count": 75,
   "metadata": {},
   "outputs": [
    {
     "name": "stdout",
     "output_type": "stream",
     "text": [
      "['Ryan', 'Leza', 'Tenzin', 'Austin', 'Dylan', 'Mohammad', 'Kenai', 2]\n"
     ]
    }
   ],
   "source": [
    "#our_list.insert(index, value)\n",
    "names.insert(1, 'Leza') # Leza ends up at index 1\n",
    "print(names)\n",
    "# end result shifts the list\n",
    "# may affect for/while loops\n",
    "\n"
   ]
  },
  {
   "cell_type": "markdown",
   "metadata": {},
   "source": [
    "##### .pop()"
   ]
  },
  {
   "cell_type": "code",
   "execution_count": 82,
   "metadata": {},
   "outputs": [
    {
     "name": "stdout",
     "output_type": "stream",
     "text": [
      "Austin\n"
     ]
    }
   ],
   "source": [
    "# default is the last value if no parameter is given\n",
    "# pop returns the element that was removed in case you want to assign it into a variable\n",
    "\n",
    "# bye_name = names.pop()\n",
    "# print(bye_name)\n",
    "\n",
    "# can keep going until all of the variables are gone\n",
    "# can utilize pop() at a different index\n",
    "\n",
    "names = [\"Ryan\", \"Tenzin\", \"Austin\", \"Dylan\", \"Mohammad\"]\n",
    "bye_names = names.pop(2)\n",
    "print(bye_names)\n",
    "\n",
    "\n",
    "\n"
   ]
  },
  {
   "cell_type": "markdown",
   "metadata": {},
   "source": [
    "##### .remove()"
   ]
  },
  {
   "cell_type": "code",
   "execution_count": null,
   "metadata": {},
   "outputs": [],
   "source": [
    "# value to be removed, not an index\n",
    "# names = [\"Ryan\", \"Tenzin\", \"Austin\", \"Dylan\", \"Mohammad\"]\n",
    "# names.remove('Tenzin') # has no value associated with it\n",
    "# print(names)\n",
    "\n",
    "names = ['Bob', 'Jason', 'Bob', 'Bob', 'Liza']\n",
    "\n",
    "# names.remove('Bob')\n",
    "# print(names)\n",
    "\n",
    "# for name in names:\n",
    "#     if name == 'Bob':\n",
    "#         names.remove(name)\n",
    "# print(names)\n",
    "\n",
    "# for i in range (len(names)):\n",
    "#     if name[i] == 'Bob':\n",
    "#         names.remove(i)\n",
    "# print(names)\n",
    "\n",
    "print(names)\n",
    "\n",
    "while 'Bob' in names:\n",
    "    name.remove('Bob')\n",
    "\n",
    "print(names)\n",
    "\n",
    "\n"
   ]
  },
  {
   "cell_type": "code",
   "execution_count": null,
   "metadata": {},
   "outputs": [],
   "source": [
    "### Working With Lists"
   ]
  },
  {
   "cell_type": "markdown",
   "metadata": {},
   "source": [
    "##### del()"
   ]
  },
  {
   "cell_type": "code",
   "execution_count": 1,
   "metadata": {},
   "outputs": [
    {
     "name": "stdout",
     "output_type": "stream",
     "text": [
      "['Bob', 'Jason', 'Bob', 'Bob', 'Liza']\n",
      "['Bob', 'Bob', 'Bob', 'Liza']\n"
     ]
    }
   ],
   "source": [
    "# index to be removed, not value \n",
    "# be careful with del, can cause indexing error (proceed with caution when shifting lists)\n",
    "\n",
    "names = ['Bob', 'Jason', 'Bob', 'Bob', 'Liza']\n",
    "print(names)\n",
    "\n",
    "del(names[1])\n",
    "print(names)\n",
    "\n",
    "\n",
    "\n",
    "\n",
    "\n"
   ]
  },
  {
   "cell_type": "markdown",
   "metadata": {},
   "source": [
    "##### min()"
   ]
  },
  {
   "cell_type": "code",
   "execution_count": 4,
   "metadata": {},
   "outputs": [
    {
     "name": "stdout",
     "output_type": "stream",
     "text": [
      "-2\n",
      "Jason\n",
      "\n",
      "\n",
      "Nico\n"
     ]
    }
   ],
   "source": [
    "# return the smallest item in a list\n",
    "\n",
    "numbers = [3,1,6,5,10,-2]\n",
    "\n",
    "print(min(numbers))\n",
    "\n",
    "names = [\"brendan\", \"Jeremy\", \"Jason\", \"Nico\"]\n",
    "print(min(names)) #this would print out the minimum unicode (in this case Ja comes before Je\n",
    "\n",
    "print('\\n')\n",
    "\n",
    "print(min(names,key=len)) #prints out which name has the shorter length"
   ]
  },
  {
   "cell_type": "markdown",
   "metadata": {},
   "source": [
    "##### max()"
   ]
  },
  {
   "cell_type": "code",
   "execution_count": 7,
   "metadata": {},
   "outputs": [
    {
     "name": "stdout",
     "output_type": "stream",
     "text": [
      "brendan\n",
      "brendan\n"
     ]
    }
   ],
   "source": [
    "# returns largest item in a list\n",
    "print(max(names))\n",
    "\n",
    "print(max(names, key=len))\n"
   ]
  },
  {
   "cell_type": "markdown",
   "metadata": {},
   "source": [
    "##### sum()"
   ]
  },
  {
   "cell_type": "code",
   "execution_count": 9,
   "metadata": {},
   "outputs": [
    {
     "name": "stdout",
     "output_type": "stream",
     "text": [
      "23\n"
     ]
    }
   ],
   "source": [
    "# return the sum of all numbers in a list\n",
    "\n",
    "print(sum(numbers))\n",
    "# print(sum(names)) can't sum names\n"
   ]
  },
  {
   "cell_type": "markdown",
   "metadata": {},
   "source": [
    "##### sorted()"
   ]
  },
  {
   "cell_type": "code",
   "execution_count": 15,
   "metadata": {},
   "outputs": [
    {
     "name": "stdout",
     "output_type": "stream",
     "text": [
      "[-2, 1, 3, 5, 6, 10]\n",
      "[-2, 1, 3, 5, 6, 10]\n",
      "[3, 1, 6, 5, 10, -2]\n",
      "['Nico', 'Jason', 'Jeremy', 'brendan']\n"
     ]
    }
   ],
   "source": [
    "#sorted will return a new sorted list, create a new variable\n",
    "# because it is a function it can accept different data types\n",
    "# creates a copy - doesnt alter the original list\n",
    "\n",
    "numbers = [3,1,6,5,10,-2]\n",
    "\n",
    "print(sorted(numbers)) #integers do not have a length associated with them\n",
    "\n",
    "sorted_nums = sorted(numbers)\n",
    "print(sorted_nums)\n",
    "\n",
    "print(numbers)\n",
    "\n",
    "names = [\"brendan\", \"Jeremy\", \"Jason\", \"Nico\"]\n",
    "print(sorted(names, key=len))\n",
    "\n"
   ]
  },
  {
   "cell_type": "markdown",
   "metadata": {},
   "source": [
    "##### .sort() <br>\n",
    "<p>Difference between sort and sorted, is that sorted doesn't change original list it returns a copy, while .sort changes the original list</p>"
   ]
  },
  {
   "cell_type": "code",
   "execution_count": 17,
   "metadata": {},
   "outputs": [
    {
     "name": "stdout",
     "output_type": "stream",
     "text": [
      "Numbers before sort:  [3, 1, 6, 5, 10, -2]\n",
      "Numbers after sort:  [-2, 1, 3, 5, 6, 10]\n"
     ]
    }
   ],
   "source": [
    "#.sort() will sort the original list\n",
    "# this is a list method so it only works on lists\n",
    "# alters the original list\n",
    "\n",
    "numbers = [3,1,6,5,10,-2]\n",
    "print(\"Numbers before sort: \", numbers)\n",
    "\n",
    "numbers.sort() # there is no return value when you use .sort()\n",
    "print(\"Numbers after sort: \", numbers)\n",
    "\n",
    "\n",
    "\n"
   ]
  },
  {
   "cell_type": "markdown",
   "metadata": {},
   "source": [
    "##### Copying a List"
   ]
  },
  {
   "cell_type": "code",
   "execution_count": 20,
   "metadata": {},
   "outputs": [
    {
     "name": "stdout",
     "output_type": "stream",
     "text": [
      "[1, 6, 1, 5, 10, -2]\n",
      "[1, 6, 1, 5, 10, -2]\n",
      "[1, 6, 1, 5, 10, -2, 5]\n",
      "[1, 6, 1, 5, 10, -2, 5]\n",
      "True\n"
     ]
    }
   ],
   "source": [
    "# [:] copies a list, doesn't alter original'\n",
    "numbers = [1,6,1,5,10,-2]\n",
    "\n",
    "new_numbers = numbers\n",
    "\n",
    "print(numbers)\n",
    "print(new_numbers)\n",
    "\n",
    "new_numbers.append(5)\n",
    "\n",
    "print(numbers)\n",
    "print(new_numbers)\n",
    "\n",
    "print(numbers is new_numbers)\n",
    "\n"
   ]
  },
  {
   "cell_type": "code",
   "execution_count": 22,
   "metadata": {},
   "outputs": [
    {
     "name": "stdout",
     "output_type": "stream",
     "text": [
      "[1, 6, 1, 5, 10, -2]\n",
      "[1, 6, 1, 5, 10, -2]\n",
      "False\n",
      "[1, 6, 1, 5, 10, -2]\n",
      "[1, 6, 1, 5, 10, -2, 5]\n"
     ]
    }
   ],
   "source": [
    "numbers = [1,6,1,5,10,-2]\n",
    "\n",
    "new_numbers = numbers[:] # : = goes all the way through the list\n",
    "\n",
    "print(numbers)\n",
    "print(new_numbers)\n",
    "\n",
    "print(numbers is new_numbers)\n",
    "\n",
    "new_numbers.append(5)\n",
    "\n",
    "print(numbers)\n",
    "print(new_numbers)\n",
    "\n",
    "# print(numbers is new_numbers)\n",
    "\n"
   ]
  },
  {
   "cell_type": "markdown",
   "metadata": {},
   "source": [
    "##### Looping Through Lists"
   ]
  },
  {
   "cell_type": "code",
   "execution_count": 25,
   "metadata": {},
   "outputs": [
    {
     "name": "stdout",
     "output_type": "stream",
     "text": [
      "Han Solo\n",
      "Leia Organa\n",
      "Luke Skywalker\n",
      "Lando Calrissian\n",
      "Mace Windu\n",
      "0\n",
      "Han Solo\n",
      "1\n",
      "Leia Organa\n",
      "2\n",
      "Luke Skywalker\n",
      "3\n",
      "Lando Calrissian\n",
      "4\n",
      "Mace Windu\n",
      "\n",
      "\n",
      "0\n",
      "Han Solo\n",
      "1\n",
      "Leia Organa\n",
      "2\n",
      "Luke Skywalker\n",
      "3\n",
      "Lando Calrissian\n",
      "4\n",
      "Mace Windu\n"
     ]
    }
   ],
   "source": [
    "#Two ways to loop through a list. one is by index and the other is by value, using the \"in\" keyword\n",
    "names = [\"Han Solo\", \"Leia Organa\", \"Luke Skywalker\", \"Lando Calrissian\", \"Mace Windu\"]\n",
    "\n",
    "#looping by value only\n",
    "\n",
    "for name in names:\n",
    "    print(name) # name is just a variable that represents each item\n",
    "\n",
    "# looping by index only\n",
    "for i in range(len(names)):\n",
    "    print(i)\n",
    "    print(names[i]) # using i to index into our iterable and grab the value\n",
    "\n",
    "print('\\n')\n",
    "\n",
    "# looping by index AND value\n",
    "for i, name in enumerate(names):\n",
    "    print(i)\n",
    "    print(name)\n",
    "# print(hex(id(numbers))) <- this shows the memory address of an object"
   ]
  },
  {
   "cell_type": "markdown",
   "metadata": {},
   "source": [
    "##### 'in' keyword"
   ]
  },
  {
   "cell_type": "code",
   "execution_count": 26,
   "metadata": {},
   "outputs": [
    {
     "name": "stdout",
     "output_type": "stream",
     "text": [
      "Ranger\n"
     ]
    }
   ],
   "source": [
    "names = [\"Ryan\", \"Alex\", \"Tenzin\", \"Austin\", \"Jeong\", \"Nate\"]\n",
    "\n",
    "if 'Nate' in names:\n",
    "    print('Ranger')\n",
    "else:\n",
    "    print('Not a Ranger')\n",
    "    "
   ]
  },
  {
   "cell_type": "markdown",
   "metadata": {},
   "source": [
    "##### 'not in' keyword"
   ]
  },
  {
   "cell_type": "code",
   "execution_count": 27,
   "metadata": {},
   "outputs": [
    {
     "name": "stdout",
     "output_type": "stream",
     "text": [
      "New Ranger Squad\n"
     ]
    }
   ],
   "source": [
    "names = [\"Ryan\", \"Alex\", \"Tenzin\", \"Austin\", \"Jeong\", \"Nate\"]\n",
    "\n",
    "if \"Matthew\" not in names:\n",
    "    print(\"New Ranger Squad\")\n",
    "else:\n",
    "    print(\"Not a Ranger\")\n",
    "    \n"
   ]
  },
  {
   "cell_type": "markdown",
   "metadata": {},
   "source": [
    "##### Checking an Empty List"
   ]
  },
  {
   "cell_type": "code",
   "execution_count": 1,
   "metadata": {},
   "outputs": [
    {
     "name": "stdout",
     "output_type": "stream",
     "text": [
      "That is an empty list. Would ya just look at it\n",
      "no\n"
     ]
    }
   ],
   "source": [
    "l_2 = [] # declared this empty list (this is a falsy value)\n",
    "l_3 = None # declared this none type value (this is also a falsy value)\n",
    "if l_2 == []: # you can also write \"if not 1_2\"\n",
    "    print(\"That is an empty list. Would ya just look at it\")\n",
    "    \n",
    "if l_3 == l_2:\n",
    "    print(\"yes\")\n",
    "else: \n",
    "    print(\"no\")"
   ]
  },
  {
   "cell_type": "markdown",
   "metadata": {},
   "source": [
    "##### Removing Instances with a Loop"
   ]
  },
  {
   "cell_type": "code",
   "execution_count": 28,
   "metadata": {},
   "outputs": [
    {
     "name": "stdout",
     "output_type": "stream",
     "text": [
      "['Alex', 'Tenzin', 'Austin', 'Jeong', 'Nate']\n"
     ]
    }
   ],
   "source": [
    "#while, remove\n",
    "\n",
    "names = [\"Ryan\", \"Alex\", \"Tenzin\", \"Ryan\", \"Austin\", \"Jeong\", \"Nate\"]\n",
    "\n",
    "while \"Ryan\" in names:\n",
    "    names.remove(\"Ryan\")\n",
    "\n",
    "print(names)\n"
   ]
  },
  {
   "cell_type": "code",
   "execution_count": 29,
   "metadata": {},
   "outputs": [
    {
     "name": "stdout",
     "output_type": "stream",
     "text": [
      "[0, 3]\n"
     ]
    }
   ],
   "source": [
    "names = [\"Ryan\", \"Alex\", \"Tenzin\", \"Ryan\", \"Austin\", \"Jeong\", \"Nate\"]\n",
    "pop_index =[]\n",
    "\n",
    "for i, name in enumerate(names):\n",
    "    if name == \"Ryan\":\n",
    "        pop_index.append(i)\n",
    "\n",
    "print(pop_index) # this shows where \"Ryan\" was in the original list\n"
   ]
  },
  {
   "cell_type": "code",
   "execution_count": 31,
   "metadata": {},
   "outputs": [
    {
     "name": "stdout",
     "output_type": "stream",
     "text": [
      "['Alex', 'Tenzin', 'Austin', 'Jeong', 'Nate']\n"
     ]
    }
   ],
   "source": [
    "names = [\"Ryan\", \"Alex\", \"Tenzin\", \"Ryan\", \"Austin\", \"Jeong\", \"Nate\"]\n",
    "index = 0\n",
    "while index < len(names):\n",
    "\n",
    "    if names[index] == \"Ryan\":\n",
    "        names.pop(index)\n",
    "    else:\n",
    "        index += 1\n",
    "\n",
    "print(names)"
   ]
  },
  {
   "cell_type": "markdown",
   "metadata": {},
   "source": [
    "### List Exercise <br>\n",
    "<p>Remove all duplicates<br><b>Extra: Create a program that will remove any duplicates from a given list</b></p>"
   ]
  },
  {
   "cell_type": "code",
   "execution_count": 49,
   "metadata": {},
   "outputs": [
    {
     "name": "stdout",
     "output_type": "stream",
     "text": [
      "['connor', 'bob', 'evan', 'max', 2, 3, 4, 'kevin']\n"
     ]
    }
   ],
   "source": [
    "names = ['connor', 'connor', 'bob', 'connor', 'evan', 'max', 'evan', 2, 2, 2, 3, 3, 4, 'bob', 'kevin']\n",
    "# Hint 1: You will need an append\n",
    "# Hint 2: Using an empty list will make life easier\n",
    "\n",
    "new_list = [] #make an empty list to store non duplicates\n",
    "\n",
    "for name in names:\n",
    "    if name not in new_list: #if the name is NOT there then add to the list\n",
    "        new_list.append(name) #literally adds the name to the new list\n",
    "print(new_list) #prints out the non duplicate names\n",
    "\n",
    "    \n",
    "# alternate answers\n",
    "for i, value in enumerate(names):\n",
    "    for j,value2 in enumerate(names):\n",
    "        if j !=i and value ==value2:\n",
    "            names.remove(value)\n",
    "            \n",
    "# alternate answers\n",
    "i, j = 0, 1\n",
    "\n",
    "while i < len(names) -2:\n",
    "\n",
    "    if j == len(names) - 1:\n",
    "        i += 1\n",
    "        j = i + 1\n",
    "\n",
    "    if names[i] == names[j]:\n",
    "        names.remove(names[i])\n",
    "    else:\n",
    "        j += 1\n",
    "\n",
    "print(names)\n",
    "\n",
    "        \n",
    "\n",
    "\n",
    "\n",
    "\n"
   ]
  },
  {
   "cell_type": "markdown",
   "metadata": {},
   "source": [
    "### \n",
    "List Comprehensions <br>\n",
    "<p>Creating a quickly generated list to work with<br>*result*  = [*transform*    *iteration*         *filter*     ]</p>"
   ]
  },
  {
   "cell_type": "markdown",
   "metadata": {},
   "source": [
    "##### In a list comprehension we have a few pieces:\n",
    "1. The first is the counter/ variable - IN this the variable is x\n",
    "2. then we have a transform for the variable\n",
    "3. The finale part of a list comp is called the condition\n",
    "\n",
    "```python\n",
    "    [transform, iteration/variable, condition]\n",
    "```"
   ]
  },
  {
   "cell_type": "code",
   "execution_count": 52,
   "metadata": {
    "scrolled": true
   },
   "outputs": [
    {
     "name": "stdout",
     "output_type": "stream",
     "text": [
      "[25, 49, 81]\n",
      "[25, 49, 81]\n"
     ]
    }
   ],
   "source": [
    "# result = [transform - iteration - filter]\n",
    "nums = [2, 4, 5, 6, 7, 8, 9, 10]\n",
    "nums_squared = [] #list of odd numbers squared\n",
    "\n",
    "#long handed version\n",
    "for num in nums:\n",
    "    if num % 2 : #trusy value aka 1 (if a # is false the modulo will be one if dividing by 2)\n",
    "        nums_squared.append(num **2)\n",
    "\n",
    "print(nums_squared)\n",
    "\n",
    "#list comprehension\n",
    "                    #transform    #iterate    #conditional/filter\n",
    "nums_squared_lc = [num ** 2 for num in nums if num % 2]\n",
    "print(nums_squared_lc)\n",
    "\n",
    "\n",
    "\n",
    "\n",
    "\n"
   ]
  },
  {
   "cell_type": "code",
   "execution_count": 54,
   "metadata": {},
   "outputs": [
    {
     "name": "stdout",
     "output_type": "stream",
     "text": [
      "[2, 4, 25, 6, 49, 8, 81, 10]\n",
      "[2, 4, 25, 6, 49, 8, 81, 10]\n"
     ]
    }
   ],
   "source": [
    "#list comprehension when we have if/else or if/elif/else statements\n",
    "nums = [2, 4, 5, 6, 7, 8, 9, 10]\n",
    "nums_squared = [] #list of odd numbers squared\n",
    "\n",
    "#long handed\n",
    "for num in nums:\n",
    "    if num % 2:\n",
    "        nums_squared.append(num ** 2)\n",
    "    else:\n",
    "        nums_squared.append(num)\n",
    "print(nums_squared)\n",
    "\n",
    "#short form\n",
    "                    #transform     #conditional/filter   #iterate\n",
    "nums_squared_lc = [num ** 2 if num % 2 else num for num in nums]\n",
    "print(nums_squared_lc)"
   ]
  },
  {
   "cell_type": "code",
   "execution_count": 58,
   "metadata": {},
   "outputs": [
    {
     "name": "stdout",
     "output_type": "stream",
     "text": [
      "[2, 4, 25, 216, 49, 8, 81, 10]\n",
      "[2, 4, 25, 216, 49, 8, 81, 10]\n"
     ]
    }
   ],
   "source": [
    "nums = [2, 4, 5, 6, 7, 8, 9, 10]\n",
    "nums_squared = [] #list of odd numbers squared\n",
    "\n",
    "#long handed\n",
    "for num in nums:\n",
    "    if num % 2:\n",
    "        nums_squared.append(num ** 2)\n",
    "    elif num == 6:\n",
    "        nums_squared.append(num ** 3)\n",
    "    else:\n",
    "        nums_squared.append(num)\n",
    "print(nums_squared)\n",
    "\n",
    "# list comprehension\n",
    "\n",
    "nums_squared_lc = [num ** 2 if num % 2 else (num **3 if num ==6 else num) for num in nums]\n",
    "print(nums_squared_lc)"
   ]
  },
  {
   "cell_type": "markdown",
   "metadata": {},
   "source": [
    "There are a few benefits to using List comprehensions. The most obvious would be that we now have shorter code to work with instead of using 3+ lines of code in the for loop variant.\n",
    "\n",
    "Another is an added benefit to memory usage. Since the list's memory is allocated first before adding elements to it, we don't have to resize the list once we add elements to it.\n",
    "\n",
    "Lastly, list comprehensions are considered the \"pythonic\" way to write code by the PEP8 standards (Python Style Guide)"
   ]
  },
  {
   "cell_type": "markdown",
   "metadata": {},
   "source": [
    "### Tuples <br>\n",
    "<p><b>Defined as an immutable list</b></p><br>Seperated by commas using parenthesis"
   ]
  },
  {
   "cell_type": "code",
   "execution_count": 64,
   "metadata": {},
   "outputs": [
    {
     "name": "stdout",
     "output_type": "stream",
     "text": [
      "(1, 2, 3)\n",
      "(4, 5, 6)\n",
      "\n",
      "\n",
      "<class 'tuple'>\n",
      "<class 'tuple'>\n",
      "\n",
      "\n",
      "3\n",
      "\n",
      "\n",
      "1\n",
      "2\n",
      "3\n"
     ]
    }
   ],
   "source": [
    "# declare a tuple by utilizing ()\n",
    "tup_1 = (1, 2, 3)\n",
    "tup_2 = 4, 5, 6 # another way to declare tuples\n",
    "\n",
    "print(tup_1)\n",
    "print(tup_2)\n",
    "print('\\n')\n",
    "\n",
    "print(type(tup_1))\n",
    "print(type(tup_2))\n",
    "print('\\n')\n",
    "\n",
    "print(len(tup_2))\n",
    "print('\\n')\n",
    "\n",
    "for num in tup_1:\n",
    "    print(num)"
   ]
  },
  {
   "cell_type": "markdown",
   "metadata": {},
   "source": [
    "##### sorted()"
   ]
  },
  {
   "cell_type": "code",
   "execution_count": 68,
   "metadata": {},
   "outputs": [
    {
     "name": "stdout",
     "output_type": "stream",
     "text": [
      "[1, 5, 10, 20, 95, 123]\n",
      "<class 'list'>\n",
      "(20, 5, 1, 10, 95, 123)\n",
      "(1, 5, 10, 20, 95, 123)\n"
     ]
    }
   ],
   "source": [
    "tup = (20,5,1,10,95,123)\n",
    "\n",
    "my_tup = sorted(tup)\n",
    "\n",
    "print(my_tup)\n",
    "print(type(my_tup)) #this gets changed to a list\n",
    "print(tup)\n",
    "\n",
    "my_tup = tuple(my_tup) # changes this back to a tuple\n",
    "print(my_tup)\n"
   ]
  },
  {
   "cell_type": "markdown",
   "metadata": {},
   "source": [
    "##### Adding values to a Tuple"
   ]
  },
  {
   "cell_type": "code",
   "execution_count": 71,
   "metadata": {},
   "outputs": [
    {
     "name": "stdout",
     "output_type": "stream",
     "text": [
      "(1, 5, 10, 20, 95, 123, 20, 5, 1, 10, 95, 123)\n",
      "(1, 5, 10, 20, 95, 123, 20, 5, 1, 10, 95, 123, 6)\n",
      "(1, 5, 10, 20, 95, 123, 20, 5, 1, 10, 95, 123, 6, 7)\n"
     ]
    }
   ],
   "source": [
    "new_tup = my_tup + tup\n",
    "print(new_tup)\n",
    "\n",
    "new_tup = new_tup + (6,) # the comma indicates that it is a tuple\n",
    "print(new_tup)\n",
    "\n",
    "new_tup += (7,)\n",
    "print(new_tup)"
   ]
  },
  {
   "cell_type": "code",
   "execution_count": 73,
   "metadata": {},
   "outputs": [
    {
     "name": "stdout",
     "output_type": "stream",
     "text": [
      "[(0, 'Ryan'), (1, 'Alex'), (2, 'Tenzin'), (3, 'Austin'), (4, 'Jeong'), (5, 'Nate')]\n"
     ]
    }
   ],
   "source": [
    "names = [\"Ryan\", \"Alex\", \"Tenzin\", \"Austin\", \"Jeong\", \"Nate\"]\n",
    "print(list(enumerate(names)))"
   ]
  },
  {
   "cell_type": "markdown",
   "metadata": {},
   "source": [
    "# Exercises"
   ]
  },
  {
   "cell_type": "markdown",
   "metadata": {},
   "source": [
    "## Exercise 1 <br>\n",
    "<p>Using the given list, print out a filtered version of the list with only the numbers that are less than ten</b></i></p><br>\n"
   ]
  },
  {
   "cell_type": "code",
   "execution_count": null,
   "metadata": {},
   "outputs": [],
   "source": [
    "alist = [1,11,14,5,8,9]\n",
    "new_list = []\n",
    "\n",
    "for num in alist:\n",
    "    if num < 10:\n",
    "        new_list.append(num)\n",
    "print(new_list)\n",
    "    \n",
    "\n",
    "\n",
    "\n"
   ]
  },
  {
   "cell_type": "markdown",
   "metadata": {},
   "source": [
    "## Exercise 2 <br>\n",
    "<p>Merge and sort the two lists below<br>\n",
    "<b><i>Hint: You can use the .sort() method</i></b></p>"
   ]
  },
  {
   "cell_type": "code",
   "execution_count": null,
   "metadata": {},
   "outputs": [],
   "source": [
    "l_1 = [1,2,3,4,5,6]\n",
    "l_2 = [3,4,5,6,7,8,10]\n",
    "\n",
    "sorted_list = l_1 +l_2\n",
    "print(sorted_list.sort())\n",
    "\n",
    "# version 2 used sorted() function to print the list in order including repeats\n",
    "\n",
    "l_1 = [1,2,3,4,5,6]\n",
    "l_2 = [3,4,5,6,7,8,10]\n",
    "\n",
    "sorted_list_2 =sorted(l_1+l_2)\n",
    "print(sorted_list_2)\n",
    "\n",
    "\n",
    "\n"
   ]
  },
  {
   "cell_type": "markdown",
   "metadata": {},
   "source": [
    "## Exercise 3 <br>\n",
    "<p>Square every number from 1 to 15<br>\n"
   ]
  },
  {
   "cell_type": "code",
   "execution_count": null,
   "metadata": {},
   "outputs": [],
   "source": [
    "for num in range(1,16):\n",
    "    squared_num = num ** 2\n",
    "    print(squared_num)"
   ]
  },
  {
   "cell_type": "markdown",
   "metadata": {},
   "source": [
    "## Exercise 4<br>\n",
    "<p>Using List Comprehension and the given list, print out a filtered list with \n",
    "only the names that start with the letter 'a'. \n",
    "The names in the outputted list should be title cased and have no whitespace.<br>\n",
    "<p>Hint: There is an empty string at the end of the list you will need to account for.\n"
   ]
  },
  {
   "cell_type": "code",
   "execution_count": null,
   "metadata": {},
   "outputs": [],
   "source": [
    "names_list = ['   amy', 'Briant', 'Ryan ', ' Alex', 'steve', '  '] #account for empty string\n",
    "#expected output = ['Amy', 'Alex']\n",
    "\n",
    "a_list = names_list[0].strip().title(), names_list[3].strip().title()\n",
    "print(a_list)\n",
    "\n"
   ]
  },
  {
   "cell_type": "code",
   "execution_count": null,
   "metadata": {},
   "outputs": [],
   "source": [
    "## Exercise 5 <br>\n",
    "<p>Print all Prime numbers from 1 to 100<br>\n",
    "<p>Hint: A Prime # is any # that is ONLY divisible by 1 and itself. So think how you can iterate through the list of #s from 1 to 100 and check to see if its divisible by ANY # below it.\n",
    "<p>The For/Each might be very helpful for this question. \n",
    "https://www.geeksforgeeks.org/using-else-conditional-statement-with-for-loop-in-python/\n"
   ]
  },
  {
   "cell_type": "code",
   "execution_count": null,
   "metadata": {},
   "outputs": [],
   "source": [
    "#prime numbers\n",
    "for number in range (1, 101):  # this sets the range to check for prime numbers\n",
    "    \n",
    "    if number > 1:  # the number has to be greater than 1 in order for this to work\n",
    "        for num2 in range (2, number):  # variable num2 has to be in between set number 2 and the current number in the if statement\n",
    "            \n",
    "# if there is no remainder by dividing the number and num2 then it is not a prime number because\n",
    "#prime numbers are only divisible between one and itself. The loop keeps going until\n",
    "# it finds the number it's divisble by then it breaks when it does and starts the first\n",
    "# for loop over          \n",
    "            if (number % num2) == 0:  \n",
    "                break  \n",
    "        else:  \n",
    "            print(number)  "
   ]
  }
 ],
 "metadata": {
  "kernelspec": {
   "display_name": "Python 3 (ipykernel)",
   "language": "python",
   "name": "python3"
  },
  "language_info": {
   "codemirror_mode": {
    "name": "ipython",
    "version": 3
   },
   "file_extension": ".py",
   "mimetype": "text/x-python",
   "name": "python",
   "nbconvert_exporter": "python",
   "pygments_lexer": "ipython3",
   "version": "3.11.4"
  }
 },
 "nbformat": 4,
 "nbformat_minor": 4
}
